{
 "cells": [
  {
   "cell_type": "markdown",
   "metadata": {},
   "source": [
    "Llegir arxiu"
   ]
  },
  {
   "cell_type": "code",
   "execution_count": null,
   "metadata": {},
   "outputs": [],
   "source": [
    "import numpy as np\n",
    "\n",
    "# Función para leer el archivo y extraer las matrices\n",
    "def leer_archivo(nombre_archivo):\n",
    "    c = []\n",
    "    A = []\n",
    "    b = []\n",
    "\n",
    "    with open(nombre_archivo, 'r') as file:\n",
    "        for line in file:\n",
    "            if line.startswith('c='):\n",
    "                c = [int(x) for x in line.split()[1:]]\n",
    "            elif line.startswith('A='):\n",
    "                while True:\n",
    "                    line = next(file)\n",
    "                    if line.startswith(' '):\n",
    "                        A.append([int(x) for x in line.split()])\n",
    "                    else:\n",
    "                        break\n",
    "            elif line.startswith('b='):\n",
    "                b = [int(x) for x in line.split()[1:]]\n",
    "    \n",
    "    # Convertir las listas a arrays numpy\n",
    "    c = np.array(c)\n",
    "    A = np.array(A)\n",
    "    b = np.array(b)\n",
    "    \n",
    "    return c, A, b\n",
    "\n",
    "# Nombre del archivo\n",
    "nombre_archivo = 'informacion.txt'\n",
    "\n",
    "# Llamar a la función para leer el archivo\n",
    "c, A, b = leer_archivo(nombre_archivo)\n",
    "\n",
    "# Mostrar las matrices\n",
    "print(\"Matriz c:\")\n",
    "print(c)\n",
    "print(\"\\nMatriz A:\")\n",
    "print(A)\n",
    "print(\"\\nVector b:\")\n",
    "print(b)\n"
   ]
  },
  {
   "cell_type": "markdown",
   "metadata": {},
   "source": [
    "Classe"
   ]
  },
  {
   "cell_type": "code",
   "execution_count": null,
   "metadata": {},
   "outputs": [],
   "source": [
    "class SIMPLEX:\n",
    "    def __init__(self,Coeficientes, Arestricciones, bsolucion):\n",
    "    \n",
    "    def encontrar_SBF_fase1:\n",
    "    \n",
    "    def optima_variablesentrada:\n",
    "    \n",
    "    def DBF_:\n",
    "    \n",
    "    def longitudpaso_quiensale:\n",
    "    \n",
    "    def actualizar y repetir:"
   ]
  }
 ],
 "metadata": {
  "language_info": {
   "name": "python"
  }
 },
 "nbformat": 4,
 "nbformat_minor": 2
}
