{
 "cells": [
  {
   "cell_type": "markdown",
   "metadata": {},
   "source": [
    "## SIMPLEX\n",
    "### Optimització - Pràctica 1"
   ]
  },
  {
   "cell_type": "code",
   "execution_count": 15,
   "metadata": {},
   "outputs": [
    {
     "name": "stdout",
     "output_type": "stream",
     "text": [
      "Matriz c:\n",
      "[[-85 -65 -34  92 -83  93  22  76  48 -71  25 -50  79 -99   0   0   0   0\n",
      "    0   0]]\n",
      "\n",
      "Matriz A:\n",
      "[[-13 -29  23 -27  57 -52 -70  81  -2  64 -54   9  68  10   0   0   0   0\n",
      "    0   0]\n",
      " [ -6 -53 -37  36  85 -22  35  87  32  34  65 -64  65 -25   0   0   0   0\n",
      "    0   0]\n",
      " [-13  93  31  16  45  23 -11  83  75 -65  67  10 -92  88   0   0   0   0\n",
      "    0   0]\n",
      " [ 67  -8 -27 -22  47  44  -3 -23 -16  81 -24 -38 -67  24   0   0   0   0\n",
      "    0   0]\n",
      " [ 80  57  77  72  52  58  53  84  77  92  57  75  68  88   1   0   0   0\n",
      "    0   0]\n",
      " [-81  21 -14  73  11 -10  -7  45  95 -92  97 -79  89 -92   0  -1   0   0\n",
      "    0   0]\n",
      " [ 96  -7  85 -63 -24 -95  42 -71 100  42  43 -23  83  60   0   0  -1   0\n",
      "    0   0]\n",
      " [-27  92 -84  77  68  73  28  53  34 -71  59 -17 -36  -1   0   0   0   1\n",
      "    0   0]\n",
      " [ -1 -28  96  74  66 -82 -24  91  63  65  64 -29  73  93   0   0   0   0\n",
      "   -1   0]\n",
      " [-60 -34  21 -65  84   4  12  98 -38  -1 -99  25  21  82   0   0   0   0\n",
      "    0  -1]]\n",
      "\n",
      "Vector b:\n",
      "[[ 65 232 350  35 991  55 267 249 520  49]]\n"
     ]
    }
   ],
   "source": [
    "import numpy as np\n",
    "\n",
    "# Función para leer el archivo y extraer las matrices\n",
    "def leer_archivo(nombre_archivo):\n",
    "    c = []\n",
    "    A = []\n",
    "    b = []\n",
    "\n",
    "    with open(nombre_archivo, 'r') as file:\n",
    "        for line in file:\n",
    "            if 'c=' in line:\n",
    "                while True:\n",
    "                    line = next(file)\n",
    "                    c.append([int(x) for x in line.split()])\n",
    "                    if line=='\\n':\n",
    "                        c.pop()                      \n",
    "                        break \n",
    "            elif 'A=' in line:\n",
    "                while True:\n",
    "                    line = next(file)                    \n",
    "                    A.append([int(x) for x in line.split()])\n",
    "                    if line=='\\n':  \n",
    "                        A.pop()                    \n",
    "                        break \n",
    "\n",
    "            elif 'b=' in line:\n",
    "                while True:\n",
    "                    line = next(file)\n",
    "                    b.append([int(x) for x in line.split()])\n",
    "                    if line=='\\n': \n",
    "                        b.pop()                     \n",
    "                        break \n",
    "    # Convertir las listas a arrays numpy\n",
    "    c = np.array(c)\n",
    "    A = np.array(A)\n",
    "    b = np.array(b)\n",
    "    \n",
    "    return c, A, b\n",
    "\n",
    "# Nombre del archivo\n",
    "nombre_archivo = 'tes.txt'\n",
    "\n",
    "# Llamar a la función para leer el archivo\n",
    "c, A, b = leer_archivo(nombre_archivo)\n",
    "\n",
    "# Mostrar las matrices\n",
    "print(\"Matriz c:\")\n",
    "print(c)\n",
    "print(\"\\nMatriz A:\")\n",
    "print(A)\n",
    "print(\"\\nVector b:\")\n",
    "print(b)"
   ]
  },
  {
   "cell_type": "markdown",
   "metadata": {},
   "source": [
    "Classe"
   ]
  },
  {
   "cell_type": "markdown",
   "metadata": {},
   "source": [
    "Queda: preguntar por la lectura de los problemas, la actualización de la inversa y preguntar por la fase 1 cálculo de la SBF"
   ]
  },
  {
   "cell_type": "markdown",
   "metadata": {},
   "source": [
    "generas el nuevo problema fase 1 encuentras su óptimo y la base resultante es la SBF de la siguiente parte."
   ]
  },
  {
   "cell_type": "markdown",
   "metadata": {},
   "source": [
    "SImplex"
   ]
  },
  {
   "cell_type": "code",
   "execution_count": 42,
   "metadata": {},
   "outputs": [],
   "source": [
    "import numpy as np\n",
    "\n",
    "class Simplex:\n",
    "    def __init__(self, c, A, b):\n",
    "        self.c = c\n",
    "        self.A = A\n",
    "        self.b = b\n",
    "        self.m, self.n = A.shape\n",
    "    def calcula(self):\n",
    "        # Fase 1: Introducir variables artificiales\n",
    "        c_fase1 = np.concatenate((np.zeros(self.n), np.ones(self.m)))\n",
    "        A_fase1 = np.hstack((self.A, np.eye(self.m)))\n",
    "        self.base = np.arange(self.n, self.n + self.m)\n",
    "        self.no_base = np.arange(self.n)\n",
    "\n",
    "        # Resolver problema auxiliar\n",
    "        resolvemos_fase1 = self.SIMPLEX(A_fase1, b, c_fase1)\n",
    "        if resolvemos_fase1[0] != 0:\n",
    "            return \"No hay solución factible\"\n",
    "\n",
    "        # Fase 2: Resolver problema original\n",
    "        self.no_base = self.no_base[self.no_base < self.n]\n",
    "        return self.SIMPLEX(self.A, self.b, self.c)\n",
    "    def theta(self,d_b,x_b):\n",
    "        menor=9999\n",
    "        theta=[]\n",
    "        for i,valor in enumerate(d_b):\n",
    "            if valor<0:\n",
    "                a=-x_b[i]/valor\n",
    "                theta.append(-x_b[i]/valor)\n",
    "                if a<=menor:\n",
    "                        menor=a\n",
    "                        indice_variable_sale=i\n",
    "                else:\n",
    "                    if a<menor:\n",
    "                        if self.base[i]<self.base[indice_variable_sale]:\n",
    "                            menor=a\n",
    "                            indice_variable_sale=i\n",
    "        return menor, indice_variable_sale\n",
    "    def SIMPLEX(self, A, b, c):\n",
    "        while True:\n",
    "            self.no_base.sort()\n",
    "            B = A[:, self.base]\n",
    "            An = A[:, self.no_base]\n",
    "            B_inv = np.linalg.inv(B)\n",
    "            x_b = np.dot(B_inv, b)\n",
    "            x_n=np.zeros(len(self.no_base))\n",
    "            c_b = c[self.base]\n",
    "            c_n = c[self.no_base]\n",
    "           \n",
    "            r = np.array(c_n - np.dot(np.dot(c_b, B_inv),An))\n",
    "            z = np.dot(c_b, x_b)+np.dot(c_n, x_n)\n",
    "\n",
    "            if np.all(r >= 0):\n",
    "                return [z, self.base]\n",
    "            \n",
    "            indice_variable_entra = np.where(r < 0)[0][0]\n",
    "\n",
    "            d_b = np.dot(-B_inv, A[:, self.no_base[indice_variable_entra]])\n",
    "            if np.all(d_b >= 0):\n",
    "                return \"No acotado\"\n",
    "\n",
    "            theta,indice_variable_sale=self.theta(d_b,x_b)\n",
    "\n",
    "            variable_sale = self.base[indice_variable_sale]\n",
    "            self.base[indice_variable_sale] = self.no_base[indice_variable_entra]\n",
    "            self.no_base[indice_variable_entra] = variable_sale\n"
   ]
  },
  {
   "cell_type": "code",
   "execution_count": 43,
   "metadata": {},
   "outputs": [],
   "source": [
    "c= np.array([-85, -65, -34, 92, -83, 93, 22, 76, 48, -71, 25, -50, 79, -99, 0, 0, 0, 0, 0, 0])\n",
    "b = np.array([65, 232, 350, 35, 991, 55, 267, 249, 520, 49])\n",
    "A=np.array([[-13, -29, 23, -27, 57, -52, -70, 81, -2, 64, -54, 9, 68, 10, 0, 0, 0, 0, 0, 0],\n",
    "   [-6, -53, -37, 36, 85, -22, 35, 87, 32, 34, 65, -64, 65, -25, 0, 0, 0, 0, 0, 0],\n",
    "   [-13, 93, 31, 16, 45, 23, -11, 83, 75, -65, 67, 10, -92, 88, 0, 0, 0, 0, 0, 0],\n",
    "   [67, -8, -27, -22, 47, 44, -3, -23, -16, 81, -24, -38, -67, 24, 0, 0, 0, 0, 0, 0],\n",
    "   [80, 57, 77, 72, 52, 58, 53, 84, 77, 92, 57, 75, 68, 88, 1, 0, 0, 0, 0, 0],\n",
    "   [-81, 21, -14, 73, 11, -10, -7, 45, 95, -92, 97, -79, 89, -92, 0, -1, 0, 0, 0, 0],\n",
    "   [96, -7, 85, -63, -24, -95, 42, -71, 100, 42, 43, -23, 83, 60, 0, 0, -1, 0, 0, 0],\n",
    "   [-27, 92, -84, 77, 68, 73, 28, 53, 34, -71, 59, -17, -36, -1, 0, 0, 0, 1, 0, 0],\n",
    "   [-1, -28, 96, 74, 66, -82, -24, 91, 63, 65, 64, -29, 73, 93, 0, 0, 0, 0, -1, 0],\n",
    "   [-60, -34, 21, -65, 84, 4, 12, 98, -38, -1, -99, 25, 21, 82, 0, 0, 0, 0, 0, -1]])"
   ]
  },
  {
   "cell_type": "code",
   "execution_count": 44,
   "metadata": {},
   "outputs": [
    {
     "name": "stdout",
     "output_type": "stream",
     "text": [
      "Resultado: [-533.9128406938213, array([11, 12,  2, 10,  0, 17,  6,  1, 16,  4])]\n"
     ]
    }
   ],
   "source": [
    "simplex = Simplex(c, A, b)\n",
    "result = simplex.calcula()\n",
    "print(\"Resultado:\", result)"
   ]
  }
 ],
 "metadata": {
  "kernelspec": {
   "display_name": "Python 3",
   "language": "python",
   "name": "python3"
  },
  "language_info": {
   "codemirror_mode": {
    "name": "ipython",
    "version": 3
   },
   "file_extension": ".py",
   "mimetype": "text/x-python",
   "name": "python",
   "nbconvert_exporter": "python",
   "pygments_lexer": "ipython3",
   "version": "3.10.4"
  }
 },
 "nbformat": 4,
 "nbformat_minor": 2
}
