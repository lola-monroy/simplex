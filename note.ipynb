{
 "cells": [
  {
   "cell_type": "markdown",
   "metadata": {},
   "source": [
    "## SIMPLEX\n",
    "### Optimització - Pràctica 1"
   ]
  },
  {
   "cell_type": "code",
   "execution_count": 8,
   "metadata": {},
   "outputs": [
    {
     "name": "stdout",
     "output_type": "stream",
     "text": [
      "Matriz c:\n",
      "[[ 41 -64 -13 -82   2 -12  76  33  90 -54 -89  68 -26 -56   0   0   0   0\n",
      "    0   0]]\n",
      "\n",
      "Matriz A:\n",
      "[[-27 -39  99  -9 -94 -32  -9   2  71 -59  12  69 -36  77   0   0   0   0\n",
      "    0   0]\n",
      " [ 79  37 -50 -53  50  19 -32 -25  95 -82 -79  94 -40 -10   0   0   0   0\n",
      "    0   0]\n",
      " [  7  95  51 -85  22  59  79  86 -58  10 -87   8 -74 -44   0   0   0   0\n",
      "    0   0]\n",
      " [-58  74 -13 -79 -11  98  32  28  69   5 -22  35  53  51   0   0   0   0\n",
      "    0   0]\n",
      " [ 78  71  65  61  59  95  79  79  50  81  59  80  92  83   1   0   0   0\n",
      "    0   0]\n",
      " [ 33 -12  14 -24 -72  51  35 -43  12  92 -88 -57  41  84   0   1   0   0\n",
      "    0   0]\n",
      " [ 52 -32 -10  81  71 -15  92 -67  99  25  -6 -54 -52  11   0   0   1   0\n",
      "    0   0]\n",
      " [-46  99  38  90  96  94 -24  25 -76  39  61  70  19 -46   0   0   0   1\n",
      "    0   0]\n",
      " [ 87  39 -11 -52  48  -8 -54  64  -4  36  86  51 -87  81   0   0   0   0\n",
      "    1   0]\n",
      " [-14  48  20  25 -46 -88 -84  36  12   5  10  86  14  99   0   0   0   0\n",
      "    0   1]]\n",
      "\n",
      "Vector b:\n",
      "[[  25    3   69  262 1033   67  196  440  277  124]]\n"
     ]
    }
   ],
   "source": [
    "import numpy as np\n",
    "\n",
    "'''' FALTA QUE LEA MATRICES PARTIDAS'''\n",
    "'''Warning: one or more outputs not assigned in call (1)'''\n",
    "\n",
    "# Función para leer el archivo y extraer las matrices\n",
    "def leer_archivo(nombre_archivo, num, conj):\n",
    "    c = []\n",
    "    A = []\n",
    "    b = []\n",
    "    numero_problema = None\n",
    "    conjunto_datos = None\n",
    "\n",
    "    with open(nombre_archivo, 'r') as file:\n",
    "        for line in file:\n",
    "            if 'OPT/GIA/FIB Curso' in line:\n",
    "                palabras = line.split()\n",
    "                numero_problema = palabras[-4].strip(',')\n",
    "                conjunto_datos = palabras[-1]\n",
    "\n",
    "            if 'c=' in line and numero_problema == str(num) and conjunto_datos == str(conj):\n",
    "                while True:\n",
    "                    line = next(file)\n",
    "                    if line == '\\n':\n",
    "                        break\n",
    "                    c.append([int(x) for x in line.split()])\n",
    "\n",
    "            if 'A=' in line and numero_problema == str(num) and conjunto_datos == str(conj):\n",
    "                while True:\n",
    "                    line = next(file)\n",
    "                    if line == '\\n':\n",
    "                        break\n",
    "                    A.append([int(x) for x in line.split()])\n",
    "\n",
    "            if 'b=' in line and numero_problema == str(num) and conjunto_datos == str(conj):\n",
    "                while True:\n",
    "                    line = next(file)\n",
    "                    if line == '\\n':\n",
    "                        break\n",
    "                    b.append([int(x) for x in line.split()])\n",
    "\n",
    "    # Convertir las listas a arrays numpy\n",
    "    c = np.array(c)\n",
    "    A = np.array(A)\n",
    "    b = np.array(b)\n",
    "                \n",
    "    return c, A, b, numero_problema, conjunto_datos\n",
    "\n",
    "# Nombre del archivo\n",
    "nombre_archivo = 'Datos.txt'\n",
    "\n",
    "# Llamar a la función para leer el archivo\n",
    "c, A, b, numero_problema, conjunto_datos = leer_archivo(nombre_archivo, 2,  2)\n",
    "\n",
    "# Mostrar las matrices\n",
    "print(\"Matriz c:\")\n",
    "print(c)\n",
    "print(\"\\nMatriz A:\")\n",
    "print(A)\n",
    "print(\"\\nVector b:\")\n",
    "print(b)\n"
   ]
  },
  {
   "cell_type": "markdown",
   "metadata": {},
   "source": [
    "Classe"
   ]
  },
  {
   "cell_type": "markdown",
   "metadata": {},
   "source": [
    "Queda: preguntar por la lectura de los problemas, la actualización de la inversa y preguntar por la fase 1 cálculo de la SBF"
   ]
  },
  {
   "cell_type": "markdown",
   "metadata": {},
   "source": [
    "generas el nuevo problema fase 1 encuentras su óptimo y la base resultante es la SBF de la siguiente parte."
   ]
  },
  {
   "cell_type": "markdown",
   "metadata": {},
   "source": [
    "SImplex"
   ]
  },
  {
   "cell_type": "code",
   "execution_count": 57,
   "metadata": {},
   "outputs": [],
   "source": [
    "import numpy as np\n",
    "\n",
    "class Simplex:\n",
    "    def __init__(self, c, A, b):\n",
    "        self.c = c\n",
    "        self.A = A\n",
    "        self.b = b\n",
    "        self.m, self.n = A.shape\n",
    "    def calcula(self):\n",
    "        # Fase 1: Introducir variables artificiales\n",
    "        c_fase1 = np.concatenate((np.zeros(self.n), np.ones(self.m)))\n",
    "        A_fase1 = np.hstack((self.A, np.eye(self.m)))\n",
    "        self.base = np.arange(self.n, self.n + self.m)\n",
    "        self.no_base = np.arange(self.n)\n",
    "\n",
    "        # Resolver problema auxiliar\n",
    "        resolvemos_fase1 = self.SIMPLEX(A_fase1, b, c_fase1)\n",
    "        if resolvemos_fase1[0] != 0:\n",
    "            return \"No hay solución factible\"\n",
    "\n",
    "        # Fase 2: Resolver problema original\n",
    "        self.no_base = self.no_base[self.no_base < self.n]\n",
    "        return self.SIMPLEX(self.A, self.b, self.c)\n",
    "\n",
    "    def SIMPLEX(self, A, b, c):\n",
    "        while True:\n",
    "            self.no_base.sort()\n",
    "            B = A[:, self.base]\n",
    "            An = A[:, self.no_base]\n",
    "            B_inv = np.linalg.inv(B)\n",
    "            x_b = np.dot(B_inv, b)\n",
    "            x_n=np.zeros(len(self.no_base))\n",
    "            c_b = c[self.base]\n",
    "            c_n = c[self.no_base]\n",
    "           \n",
    "            r = np.array(c_n - np.dot(np.dot(c_b, B_inv),An))\n",
    "            z = np.dot(c_b, x_b)+np.dot(c_n, x_n)\n",
    "\n",
    "            if np.all(r >= 0):\n",
    "                return [z, self.base]\n",
    "            \n",
    "            indice_variable_entra = np.where(r < 0)[0][0]\n",
    "\n",
    "            d_b = np.dot(-B_inv, A[:, self.no_base[indice_variable_entra]])\n",
    "            if np.all(d_b >= 0):\n",
    "                return \"No acotado\"\n",
    "\n",
    "            menor=9999\n",
    "            theta=[]\n",
    "            for i,valor in enumerate(d_b):\n",
    "                if valor<0:\n",
    "                    a=-x_b[i]/valor\n",
    "                    theta.append(-x_b[i]/valor)\n",
    "                    if a<=menor:\n",
    "                            menor=a\n",
    "                            indice_variable_sale=i\n",
    "                    else:\n",
    "                        if a<menor:\n",
    "                            if self.base[i]<self.base[indice_variable_sale]:\n",
    "                                menor=a\n",
    "                                indice_variable_sale=i\n",
    "\n",
    "            variable_sale = self.base[indice_variable_sale]\n",
    "            self.base[indice_variable_sale] = self.no_base[indice_variable_entra]\n",
    "            self.no_base[indice_variable_entra] = variable_sale\n"
   ]
  },
  {
   "cell_type": "markdown",
   "metadata": {},
   "source": [
    "Formato de las actualizaciones"
   ]
  },
  {
   "cell_type": "code",
   "execution_count": null,
   "metadata": {},
   "outputs": [],
   "source": [
    "B = A[:, self.base]\n",
    "An = A[:, self.no_base]\n",
    "B_inv = np.linalg.inv(B)\n",
    "\n",
    "x_b = x_b_old+theta*d_b\n",
    "c_b = c[self.base]\n",
    "c_n = c[self.no_base]\n",
    "z=z_old+theta*rq"
   ]
  },
  {
   "cell_type": "code",
   "execution_count": 58,
   "metadata": {},
   "outputs": [],
   "source": [
    "c= np.array([-85, -65, -34, 92, -83, 93, 22, 76, 48, -71, 25, -50, 79, -99, 0, 0, 0, 0, 0, 0])\n",
    "b = np.array([65, 232, 350, 35, 991, 55, 267, 249, 520, 49])\n",
    "A=np.array([[-13, -29, 23, -27, 57, -52, -70, 81, -2, 64, -54, 9, 68, 10, 0, 0, 0, 0, 0, 0],\n",
    "   [-6, -53, -37, 36, 85, -22, 35, 87, 32, 34, 65, -64, 65, -25, 0, 0, 0, 0, 0, 0],\n",
    "   [-13, 93, 31, 16, 45, 23, -11, 83, 75, -65, 67, 10, -92, 88, 0, 0, 0, 0, 0, 0],\n",
    "   [67, -8, -27, -22, 47, 44, -3, -23, -16, 81, -24, -38, -67, 24, 0, 0, 0, 0, 0, 0],\n",
    "   [80, 57, 77, 72, 52, 58, 53, 84, 77, 92, 57, 75, 68, 88, 1, 0, 0, 0, 0, 0],\n",
    "   [-81, 21, -14, 73, 11, -10, -7, 45, 95, -92, 97, -79, 89, -92, 0, -1, 0, 0, 0, 0],\n",
    "   [96, -7, 85, -63, -24, -95, 42, -71, 100, 42, 43, -23, 83, 60, 0, 0, -1, 0, 0, 0],\n",
    "   [-27, 92, -84, 77, 68, 73, 28, 53, 34, -71, 59, -17, -36, -1, 0, 0, 0, 1, 0, 0],\n",
    "   [-1, -28, 96, 74, 66, -82, -24, 91, 63, 65, 64, -29, 73, 93, 0, 0, 0, 0, -1, 0],\n",
    "   [-60, -34, 21, -65, 84, 4, 12, 98, -38, -1, -99, 25, 21, 82, 0, 0, 0, 0, 0, -1]])"
   ]
  },
  {
   "cell_type": "code",
   "execution_count": 59,
   "metadata": {},
   "outputs": [
    {
     "name": "stdout",
     "output_type": "stream",
     "text": [
      "Resultado: [-533.9128406938213, array([11, 12,  2, 10,  0, 17,  6,  1, 16,  4])]\n"
     ]
    }
   ],
   "source": [
    "simplex = Simplex(c, A, b)\n",
    "result = simplex.calcula()\n",
    "print(\"Resultado:\", result)"
   ]
  }
 ],
 "metadata": {
  "kernelspec": {
   "display_name": "Python 3",
   "language": "python",
   "name": "python3"
  },
  "language_info": {
   "codemirror_mode": {
    "name": "ipython",
    "version": 3
   },
   "file_extension": ".py",
   "mimetype": "text/x-python",
   "name": "python",
   "nbconvert_exporter": "python",
   "pygments_lexer": "ipython3",
   "version": "3.12.2"
  }
 },
 "nbformat": 4,
 "nbformat_minor": 2
}
